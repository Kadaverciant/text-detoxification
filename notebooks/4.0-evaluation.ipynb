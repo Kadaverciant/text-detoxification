{
 "cells": [
  {
   "cell_type": "markdown",
   "metadata": {},
   "source": [
    "# Evaluation"
   ]
  },
  {
   "cell_type": "code",
   "execution_count": 1,
   "metadata": {},
   "outputs": [
    {
     "name": "stderr",
     "output_type": "stream",
     "text": [
      "c:\\Users\\kadav\\VSCodeProjects\\PMLDL\\Assignment\\text-detoxification\\.venv\\lib\\site-packages\\tqdm\\auto.py:21: TqdmWarning: IProgress not found. Please update jupyter and ipywidgets. See https://ipywidgets.readthedocs.io/en/stable/user_install.html\n",
      "  from .autonotebook import tqdm as notebook_tqdm\n"
     ]
    }
   ],
   "source": [
    "import pandas as pd\n",
    "import evaluate\n",
    "from tqdm import tqdm\n",
    "from transformers import RobertaTokenizer, RobertaForSequenceClassification\n",
    "import matplotlib.pyplot as plt"
   ]
  },
  {
   "cell_type": "markdown",
   "metadata": {},
   "source": [
    "## Prepare data"
   ]
  },
  {
   "cell_type": "code",
   "execution_count": 2,
   "metadata": {},
   "outputs": [
    {
     "data": {
      "text/html": [
       "<div>\n",
       "<style scoped>\n",
       "    .dataframe tbody tr th:only-of-type {\n",
       "        vertical-align: middle;\n",
       "    }\n",
       "\n",
       "    .dataframe tbody tr th {\n",
       "        vertical-align: top;\n",
       "    }\n",
       "\n",
       "    .dataframe thead th {\n",
       "        text-align: right;\n",
       "    }\n",
       "</style>\n",
       "<table border=\"1\" class=\"dataframe\">\n",
       "  <thead>\n",
       "    <tr style=\"text-align: right;\">\n",
       "      <th></th>\n",
       "      <th>toxic</th>\n",
       "      <th>non-toxic</th>\n",
       "      <th>bart</th>\n",
       "      <th>t5</th>\n",
       "    </tr>\n",
       "  </thead>\n",
       "  <tbody>\n",
       "    <tr>\n",
       "      <th>399522</th>\n",
       "      <td>I'll show you who's got bigger butts on this s...</td>\n",
       "      <td>I'll show you who's got The bigger bottom roun...</td>\n",
       "      <td>I'll show you who's got more cigarettes on thi...</td>\n",
       "      <td>I'll show you who's bigger on this station!</td>\n",
       "    </tr>\n",
       "    <tr>\n",
       "      <th>32832</th>\n",
       "      <td>\"I sit on the floor and pick my nose and think...</td>\n",
       "      <td>\"I sit down and I pick my nose, and on my nose...</td>\n",
       "      <td>\"I sit on the floor and pick at people's shoes...</td>\n",
       "      <td>\"I sit on the floor and pick my nose and think...</td>\n",
       "    </tr>\n",
       "    <tr>\n",
       "      <th>126205</th>\n",
       "      <td>did you know I really thought this grease monk...</td>\n",
       "      <td>You know, I thought that greaser really did tu...</td>\n",
       "      <td>Did you know I really thought that this crooke...</td>\n",
       "      <td>did you know I thought this grease monkey was ...</td>\n",
       "    </tr>\n",
       "    <tr>\n",
       "      <th>151854</th>\n",
       "      <td>Just go, tyler, get the hell away from me.</td>\n",
       "      <td>go, Tyler, get away from me.</td>\n",
       "      <td>go, tyler, get away from me.</td>\n",
       "      <td>just go, tyler, get away from me.</td>\n",
       "    </tr>\n",
       "    <tr>\n",
       "      <th>218096</th>\n",
       "      <td>'You're putrid, you know that?' Danny said.</td>\n",
       "      <td>\"you're cute, you know?\" Said Danny.</td>\n",
       "      <td>\"you're in trouble, you know that?\" Danny said.</td>\n",
       "      <td>\"You know what?\" Danny asked.</td>\n",
       "    </tr>\n",
       "    <tr>\n",
       "      <th>...</th>\n",
       "      <td>...</td>\n",
       "      <td>...</td>\n",
       "      <td>...</td>\n",
       "      <td>...</td>\n",
       "    </tr>\n",
       "    <tr>\n",
       "      <th>47605</th>\n",
       "      <td>With big ass lips!</td>\n",
       "      <td>he's got big lips!</td>\n",
       "      <td>with big lips!</td>\n",
       "      <td>with big lips!</td>\n",
       "    </tr>\n",
       "    <tr>\n",
       "      <th>452350</th>\n",
       "      <td>they told me some stupid friend of yours was a...</td>\n",
       "      <td>They've told me, some incapable friend of you....</td>\n",
       "      <td>They said some of your friends accidentally ra...</td>\n",
       "      <td>they told me that some friend of yours was acc...</td>\n",
       "    </tr>\n",
       "    <tr>\n",
       "      <th>434708</th>\n",
       "      <td>they're a bunch of losers.</td>\n",
       "      <td>This lot are a bunch of fairies.</td>\n",
       "      <td>They're a bunch of teenagers.</td>\n",
       "      <td>they're a bunch of losers.</td>\n",
       "    </tr>\n",
       "    <tr>\n",
       "      <th>78703</th>\n",
       "      <td>let's finish him off.</td>\n",
       "      <td>Let's get it down here.</td>\n",
       "      <td>Let's get him out of here.</td>\n",
       "      <td>Let's finish him off.</td>\n",
       "    </tr>\n",
       "    <tr>\n",
       "      <th>457220</th>\n",
       "      <td>I'll give you the fuckin' money to put the fuc...</td>\n",
       "      <td>tell me you lost the money, and I'll give you ...</td>\n",
       "      <td>I'll give you the money to turn the heat up!</td>\n",
       "      <td>I'll give you the money to put the heat on!</td>\n",
       "    </tr>\n",
       "  </tbody>\n",
       "</table>\n",
       "<p>1000 rows × 4 columns</p>\n",
       "</div>"
      ],
      "text/plain": [
       "                                                    toxic  \\\n",
       "399522  I'll show you who's got bigger butts on this s...   \n",
       "32832   \"I sit on the floor and pick my nose and think...   \n",
       "126205  did you know I really thought this grease monk...   \n",
       "151854         Just go, tyler, get the hell away from me.   \n",
       "218096        'You're putrid, you know that?' Danny said.   \n",
       "...                                                   ...   \n",
       "47605                                  With big ass lips!   \n",
       "452350  they told me some stupid friend of yours was a...   \n",
       "434708                         they're a bunch of losers.   \n",
       "78703                               let's finish him off.   \n",
       "457220  I'll give you the fuckin' money to put the fuc...   \n",
       "\n",
       "                                                non-toxic  \\\n",
       "399522  I'll show you who's got The bigger bottom roun...   \n",
       "32832   \"I sit down and I pick my nose, and on my nose...   \n",
       "126205  You know, I thought that greaser really did tu...   \n",
       "151854                       go, Tyler, get away from me.   \n",
       "218096               \"you're cute, you know?\" Said Danny.   \n",
       "...                                                   ...   \n",
       "47605                                  he's got big lips!   \n",
       "452350  They've told me, some incapable friend of you....   \n",
       "434708                   This lot are a bunch of fairies.   \n",
       "78703                             Let's get it down here.   \n",
       "457220  tell me you lost the money, and I'll give you ...   \n",
       "\n",
       "                                                     bart  \\\n",
       "399522  I'll show you who's got more cigarettes on thi...   \n",
       "32832   \"I sit on the floor and pick at people's shoes...   \n",
       "126205  Did you know I really thought that this crooke...   \n",
       "151854                       go, tyler, get away from me.   \n",
       "218096    \"you're in trouble, you know that?\" Danny said.   \n",
       "...                                                   ...   \n",
       "47605                                      with big lips!   \n",
       "452350  They said some of your friends accidentally ra...   \n",
       "434708                      They're a bunch of teenagers.   \n",
       "78703                          Let's get him out of here.   \n",
       "457220       I'll give you the money to turn the heat up!   \n",
       "\n",
       "                                                       t5  \n",
       "399522        I'll show you who's bigger on this station!  \n",
       "32832   \"I sit on the floor and pick my nose and think...  \n",
       "126205  did you know I thought this grease monkey was ...  \n",
       "151854                  just go, tyler, get away from me.  \n",
       "218096                      \"You know what?\" Danny asked.  \n",
       "...                                                   ...  \n",
       "47605                                      with big lips!  \n",
       "452350  they told me that some friend of yours was acc...  \n",
       "434708                         they're a bunch of losers.  \n",
       "78703                               Let's finish him off.  \n",
       "457220        I'll give you the money to put the heat on!  \n",
       "\n",
       "[1000 rows x 4 columns]"
      ]
     },
     "execution_count": 2,
     "metadata": {},
     "output_type": "execute_result"
    }
   ],
   "source": [
    "df = pd.read_csv(\"../data/raw/suitable.csv\", index_col=0)\n",
    "seed = 177013\n",
    "train = df.sample(10000, random_state=seed)\n",
    "val = df.drop(train.index).sample(1000, random_state=seed)\n",
    "test = df.drop(train.index).drop(val.index).sample(1000, random_state=seed)\n",
    "df = test\n",
    "df_bart = pd.read_csv(\"../data/interim/bart_pred.csv\", index_col=0)\n",
    "df['bart'] = df_bart['generated']\n",
    "df_t5 = pd.read_csv(\"../data/interim/t5_pred.csv\", index_col=0) \n",
    "df['t5'] = df_t5['generated']\n",
    "df"
   ]
  },
  {
   "cell_type": "markdown",
   "metadata": {},
   "source": [
    "## Calculate toxicity level with roberta_toxicity_classifier"
   ]
  },
  {
   "cell_type": "code",
   "execution_count": 3,
   "metadata": {},
   "outputs": [],
   "source": [
    "def measure_toxicity(texts, batch_size = 64):\n",
    "    labels = []\n",
    "    tokenizer = RobertaTokenizer.from_pretrained('SkolkovoInstitute/roberta_toxicity_classifier')\n",
    "    model = RobertaForSequenceClassification.from_pretrained('SkolkovoInstitute/roberta_toxicity_classifier')\n",
    "\n",
    "    for i in tqdm(range(0, len(texts), batch_size)):\n",
    "        batch = tokenizer(texts[i:i + batch_size], return_tensors='pt', padding=True)\n",
    "        labels.extend(model(**batch)['logits'].argmax(1).float().data.tolist())\n",
    "    return labels"
   ]
  },
  {
   "cell_type": "code",
   "execution_count": 4,
   "metadata": {},
   "outputs": [
    {
     "name": "stderr",
     "output_type": "stream",
     "text": [
      "Some weights of the model checkpoint at SkolkovoInstitute/roberta_toxicity_classifier were not used when initializing RobertaForSequenceClassification: ['roberta.pooler.dense.bias', 'roberta.pooler.dense.weight']\n",
      "- This IS expected if you are initializing RobertaForSequenceClassification from the checkpoint of a model trained on another task or with another architecture (e.g. initializing a BertForSequenceClassification model from a BertForPreTraining model).\n",
      "- This IS NOT expected if you are initializing RobertaForSequenceClassification from the checkpoint of a model that you expect to be exactly identical (initializing a BertForSequenceClassification model from a BertForSequenceClassification model).\n",
      "100%|██████████| 16/16 [00:30<00:00,  1.91s/it]\n",
      "Some weights of the model checkpoint at SkolkovoInstitute/roberta_toxicity_classifier were not used when initializing RobertaForSequenceClassification: ['roberta.pooler.dense.bias', 'roberta.pooler.dense.weight']\n",
      "- This IS expected if you are initializing RobertaForSequenceClassification from the checkpoint of a model trained on another task or with another architecture (e.g. initializing a BertForSequenceClassification model from a BertForPreTraining model).\n",
      "- This IS NOT expected if you are initializing RobertaForSequenceClassification from the checkpoint of a model that you expect to be exactly identical (initializing a BertForSequenceClassification model from a BertForSequenceClassification model).\n",
      "100%|██████████| 16/16 [00:34<00:00,  2.14s/it]\n",
      "Some weights of the model checkpoint at SkolkovoInstitute/roberta_toxicity_classifier were not used when initializing RobertaForSequenceClassification: ['roberta.pooler.dense.bias', 'roberta.pooler.dense.weight']\n",
      "- This IS expected if you are initializing RobertaForSequenceClassification from the checkpoint of a model trained on another task or with another architecture (e.g. initializing a BertForSequenceClassification model from a BertForPreTraining model).\n",
      "- This IS NOT expected if you are initializing RobertaForSequenceClassification from the checkpoint of a model that you expect to be exactly identical (initializing a BertForSequenceClassification model from a BertForSequenceClassification model).\n",
      "100%|██████████| 16/16 [00:14<00:00,  1.07it/s]\n",
      "Some weights of the model checkpoint at SkolkovoInstitute/roberta_toxicity_classifier were not used when initializing RobertaForSequenceClassification: ['roberta.pooler.dense.bias', 'roberta.pooler.dense.weight']\n",
      "- This IS expected if you are initializing RobertaForSequenceClassification from the checkpoint of a model trained on another task or with another architecture (e.g. initializing a BertForSequenceClassification model from a BertForPreTraining model).\n",
      "- This IS NOT expected if you are initializing RobertaForSequenceClassification from the checkpoint of a model that you expect to be exactly identical (initializing a BertForSequenceClassification model from a BertForSequenceClassification model).\n",
      "100%|██████████| 16/16 [00:15<00:00,  1.02it/s]\n"
     ]
    }
   ],
   "source": [
    "df['toxic_label'] = measure_toxicity(df['toxic'].to_list())\n",
    "df['non-toxic_label'] = measure_toxicity(df['non-toxic'].to_list())\n",
    "df['bart_label'] = measure_toxicity(df['bart'].to_list())\n",
    "df['t5_label'] = measure_toxicity(df['t5'].to_list())"
   ]
  },
  {
   "cell_type": "code",
   "execution_count": 5,
   "metadata": {},
   "outputs": [
    {
     "data": {
      "text/html": [
       "<div>\n",
       "<style scoped>\n",
       "    .dataframe tbody tr th:only-of-type {\n",
       "        vertical-align: middle;\n",
       "    }\n",
       "\n",
       "    .dataframe tbody tr th {\n",
       "        vertical-align: top;\n",
       "    }\n",
       "\n",
       "    .dataframe thead th {\n",
       "        text-align: right;\n",
       "    }\n",
       "</style>\n",
       "<table border=\"1\" class=\"dataframe\">\n",
       "  <thead>\n",
       "    <tr style=\"text-align: right;\">\n",
       "      <th></th>\n",
       "      <th>toxic</th>\n",
       "      <th>non-toxic</th>\n",
       "      <th>bart</th>\n",
       "      <th>t5</th>\n",
       "      <th>toxic_label</th>\n",
       "      <th>non-toxic_label</th>\n",
       "      <th>bart_label</th>\n",
       "      <th>t5_label</th>\n",
       "    </tr>\n",
       "  </thead>\n",
       "  <tbody>\n",
       "    <tr>\n",
       "      <th>399522</th>\n",
       "      <td>I'll show you who's got bigger butts on this s...</td>\n",
       "      <td>I'll show you who's got The bigger bottom roun...</td>\n",
       "      <td>I'll show you who's got more cigarettes on thi...</td>\n",
       "      <td>I'll show you who's bigger on this station!</td>\n",
       "      <td>1.0</td>\n",
       "      <td>0.0</td>\n",
       "      <td>0.0</td>\n",
       "      <td>0.0</td>\n",
       "    </tr>\n",
       "    <tr>\n",
       "      <th>32832</th>\n",
       "      <td>\"I sit on the floor and pick my nose and think...</td>\n",
       "      <td>\"I sit down and I pick my nose, and on my nose...</td>\n",
       "      <td>\"I sit on the floor and pick at people's shoes...</td>\n",
       "      <td>\"I sit on the floor and pick my nose and think...</td>\n",
       "      <td>1.0</td>\n",
       "      <td>0.0</td>\n",
       "      <td>0.0</td>\n",
       "      <td>0.0</td>\n",
       "    </tr>\n",
       "    <tr>\n",
       "      <th>126205</th>\n",
       "      <td>did you know I really thought this grease monk...</td>\n",
       "      <td>You know, I thought that greaser really did tu...</td>\n",
       "      <td>Did you know I really thought that this crooke...</td>\n",
       "      <td>did you know I thought this grease monkey was ...</td>\n",
       "      <td>1.0</td>\n",
       "      <td>0.0</td>\n",
       "      <td>1.0</td>\n",
       "      <td>1.0</td>\n",
       "    </tr>\n",
       "    <tr>\n",
       "      <th>151854</th>\n",
       "      <td>Just go, tyler, get the hell away from me.</td>\n",
       "      <td>go, Tyler, get away from me.</td>\n",
       "      <td>go, tyler, get away from me.</td>\n",
       "      <td>just go, tyler, get away from me.</td>\n",
       "      <td>0.0</td>\n",
       "      <td>0.0</td>\n",
       "      <td>0.0</td>\n",
       "      <td>0.0</td>\n",
       "    </tr>\n",
       "    <tr>\n",
       "      <th>218096</th>\n",
       "      <td>'You're putrid, you know that?' Danny said.</td>\n",
       "      <td>\"you're cute, you know?\" Said Danny.</td>\n",
       "      <td>\"you're in trouble, you know that?\" Danny said.</td>\n",
       "      <td>\"You know what?\" Danny asked.</td>\n",
       "      <td>1.0</td>\n",
       "      <td>0.0</td>\n",
       "      <td>0.0</td>\n",
       "      <td>0.0</td>\n",
       "    </tr>\n",
       "    <tr>\n",
       "      <th>...</th>\n",
       "      <td>...</td>\n",
       "      <td>...</td>\n",
       "      <td>...</td>\n",
       "      <td>...</td>\n",
       "      <td>...</td>\n",
       "      <td>...</td>\n",
       "      <td>...</td>\n",
       "      <td>...</td>\n",
       "    </tr>\n",
       "    <tr>\n",
       "      <th>47605</th>\n",
       "      <td>With big ass lips!</td>\n",
       "      <td>he's got big lips!</td>\n",
       "      <td>with big lips!</td>\n",
       "      <td>with big lips!</td>\n",
       "      <td>1.0</td>\n",
       "      <td>0.0</td>\n",
       "      <td>0.0</td>\n",
       "      <td>0.0</td>\n",
       "    </tr>\n",
       "    <tr>\n",
       "      <th>452350</th>\n",
       "      <td>they told me some stupid friend of yours was a...</td>\n",
       "      <td>They've told me, some incapable friend of you....</td>\n",
       "      <td>They said some of your friends accidentally ra...</td>\n",
       "      <td>they told me that some friend of yours was acc...</td>\n",
       "      <td>1.0</td>\n",
       "      <td>1.0</td>\n",
       "      <td>0.0</td>\n",
       "      <td>0.0</td>\n",
       "    </tr>\n",
       "    <tr>\n",
       "      <th>434708</th>\n",
       "      <td>they're a bunch of losers.</td>\n",
       "      <td>This lot are a bunch of fairies.</td>\n",
       "      <td>They're a bunch of teenagers.</td>\n",
       "      <td>they're a bunch of losers.</td>\n",
       "      <td>1.0</td>\n",
       "      <td>0.0</td>\n",
       "      <td>0.0</td>\n",
       "      <td>1.0</td>\n",
       "    </tr>\n",
       "    <tr>\n",
       "      <th>78703</th>\n",
       "      <td>let's finish him off.</td>\n",
       "      <td>Let's get it down here.</td>\n",
       "      <td>Let's get him out of here.</td>\n",
       "      <td>Let's finish him off.</td>\n",
       "      <td>1.0</td>\n",
       "      <td>0.0</td>\n",
       "      <td>0.0</td>\n",
       "      <td>1.0</td>\n",
       "    </tr>\n",
       "    <tr>\n",
       "      <th>457220</th>\n",
       "      <td>I'll give you the fuckin' money to put the fuc...</td>\n",
       "      <td>tell me you lost the money, and I'll give you ...</td>\n",
       "      <td>I'll give you the money to turn the heat up!</td>\n",
       "      <td>I'll give you the money to put the heat on!</td>\n",
       "      <td>1.0</td>\n",
       "      <td>0.0</td>\n",
       "      <td>0.0</td>\n",
       "      <td>0.0</td>\n",
       "    </tr>\n",
       "  </tbody>\n",
       "</table>\n",
       "<p>1000 rows × 8 columns</p>\n",
       "</div>"
      ],
      "text/plain": [
       "                                                    toxic  \\\n",
       "399522  I'll show you who's got bigger butts on this s...   \n",
       "32832   \"I sit on the floor and pick my nose and think...   \n",
       "126205  did you know I really thought this grease monk...   \n",
       "151854         Just go, tyler, get the hell away from me.   \n",
       "218096        'You're putrid, you know that?' Danny said.   \n",
       "...                                                   ...   \n",
       "47605                                  With big ass lips!   \n",
       "452350  they told me some stupid friend of yours was a...   \n",
       "434708                         they're a bunch of losers.   \n",
       "78703                               let's finish him off.   \n",
       "457220  I'll give you the fuckin' money to put the fuc...   \n",
       "\n",
       "                                                non-toxic  \\\n",
       "399522  I'll show you who's got The bigger bottom roun...   \n",
       "32832   \"I sit down and I pick my nose, and on my nose...   \n",
       "126205  You know, I thought that greaser really did tu...   \n",
       "151854                       go, Tyler, get away from me.   \n",
       "218096               \"you're cute, you know?\" Said Danny.   \n",
       "...                                                   ...   \n",
       "47605                                  he's got big lips!   \n",
       "452350  They've told me, some incapable friend of you....   \n",
       "434708                   This lot are a bunch of fairies.   \n",
       "78703                             Let's get it down here.   \n",
       "457220  tell me you lost the money, and I'll give you ...   \n",
       "\n",
       "                                                     bart  \\\n",
       "399522  I'll show you who's got more cigarettes on thi...   \n",
       "32832   \"I sit on the floor and pick at people's shoes...   \n",
       "126205  Did you know I really thought that this crooke...   \n",
       "151854                       go, tyler, get away from me.   \n",
       "218096    \"you're in trouble, you know that?\" Danny said.   \n",
       "...                                                   ...   \n",
       "47605                                      with big lips!   \n",
       "452350  They said some of your friends accidentally ra...   \n",
       "434708                      They're a bunch of teenagers.   \n",
       "78703                          Let's get him out of here.   \n",
       "457220       I'll give you the money to turn the heat up!   \n",
       "\n",
       "                                                       t5  toxic_label  \\\n",
       "399522        I'll show you who's bigger on this station!          1.0   \n",
       "32832   \"I sit on the floor and pick my nose and think...          1.0   \n",
       "126205  did you know I thought this grease monkey was ...          1.0   \n",
       "151854                  just go, tyler, get away from me.          0.0   \n",
       "218096                      \"You know what?\" Danny asked.          1.0   \n",
       "...                                                   ...          ...   \n",
       "47605                                      with big lips!          1.0   \n",
       "452350  they told me that some friend of yours was acc...          1.0   \n",
       "434708                         they're a bunch of losers.          1.0   \n",
       "78703                               Let's finish him off.          1.0   \n",
       "457220        I'll give you the money to put the heat on!          1.0   \n",
       "\n",
       "        non-toxic_label  bart_label  t5_label  \n",
       "399522              0.0         0.0       0.0  \n",
       "32832               0.0         0.0       0.0  \n",
       "126205              0.0         1.0       1.0  \n",
       "151854              0.0         0.0       0.0  \n",
       "218096              0.0         0.0       0.0  \n",
       "...                 ...         ...       ...  \n",
       "47605               0.0         0.0       0.0  \n",
       "452350              1.0         0.0       0.0  \n",
       "434708              0.0         0.0       1.0  \n",
       "78703               0.0         0.0       1.0  \n",
       "457220              0.0         0.0       0.0  \n",
       "\n",
       "[1000 rows x 8 columns]"
      ]
     },
     "execution_count": 5,
     "metadata": {},
     "output_type": "execute_result"
    }
   ],
   "source": [
    "df"
   ]
  },
  {
   "cell_type": "code",
   "execution_count": 6,
   "metadata": {},
   "outputs": [],
   "source": [
    "tl_toxic = df['toxic_label'][df['toxic_label']==1].count()/len(df)\n",
    "tl_nontoxic = df['non-toxic_label'][df['non-toxic_label']==1].count()/len(df)\n",
    "tl_bart = df['bart_label'][df['bart_label']==1].count()/len(df)\n",
    "tl_t5 = df['t5_label'][df['t5_label']==1].count()/len(df)"
   ]
  },
  {
   "cell_type": "code",
   "execution_count": 7,
   "metadata": {},
   "outputs": [
    {
     "data": {
      "image/png": "[encoded data removed]",
      "text/plain": [
       "<Figure size 1000x500 with 1 Axes>"
      ]
     },
     "metadata": {},
     "output_type": "display_data"
    }
   ],
   "source": [
    "data = {'input text':tl_toxic, 'reference text':tl_nontoxic, 'bart answers':tl_bart, 't5 answers':tl_t5}\n",
    "names = list(data.keys())\n",
    "values = list(data.values())\n",
    "  \n",
    "fig = plt.figure(figsize = (10, 5))\n",
    "bar_colors = ['red', 'blue', 'orange', 'green']\n",
    " \n",
    "plt.bar(names, values, color = bar_colors, width = 0.4)\n",
    "\n",
    "plt.ylabel(\"toxicity level\")\n",
    "plt.title(\"Toxicity level comparison\")\n",
    "plt.tight_layout()\n",
    "plt.savefig(\"../reports/figures/toxicity_levels.png\")\n",
    "plt.show()"
   ]
  },
  {
   "cell_type": "markdown",
   "metadata": {},
   "source": [
    "## Setup metrics"
   ]
  },
  {
   "cell_type": "markdown",
   "metadata": {},
   "source": [
    "More about this metrics are [here](https://habr.com/ru/articles/745642/) and [here](https://habr.com/ru/companies/amvera/articles/691288/)"
   ]
  },
  {
   "cell_type": "code",
   "execution_count": 8,
   "metadata": {},
   "outputs": [
    {
     "name": "stderr",
     "output_type": "stream",
     "text": [
      "[nltk_data] Downloading package wordnet to\n",
      "[nltk_data]     C:\\Users\\kadav\\AppData\\Roaming\\nltk_data...\n",
      "[nltk_data]   Package wordnet is already up-to-date!\n",
      "[nltk_data] Downloading package punkt to\n",
      "[nltk_data]     C:\\Users\\kadav\\AppData\\Roaming\\nltk_data...\n",
      "[nltk_data]   Package punkt is already up-to-date!\n",
      "[nltk_data] Downloading package omw-1.4 to\n",
      "[nltk_data]     C:\\Users\\kadav\\AppData\\Roaming\\nltk_data...\n",
      "[nltk_data]   Package omw-1.4 is already up-to-date!\n"
     ]
    }
   ],
   "source": [
    "bleu_metric = evaluate.load(\"bleu\")\n",
    "meteor_metric = evaluate.load(\"meteor\")"
   ]
  },
  {
   "cell_type": "code",
   "execution_count": 9,
   "metadata": {},
   "outputs": [],
   "source": [
    "def calculate_metrics(references, predictions):\n",
    "    bleu_scores = []\n",
    "    meteor_scores = []\n",
    "    \n",
    "    for i in tqdm(range(len(references))):\n",
    "        inputs = [predictions[i]]\n",
    "        refs = [references[i]]\n",
    "\n",
    "        bleu_score = bleu_metric.compute(predictions=inputs, references=refs)\n",
    "        bleu_scores.append(bleu_score[\"bleu\"])\n",
    "\n",
    "        meteor_score = meteor_metric.compute(predictions=inputs, references=refs)\n",
    "        meteor_scores.append(meteor_score[\"meteor\"])\n",
    "        \n",
    "    return bleu_scores, meteor_scores"
   ]
  },
  {
   "cell_type": "code",
   "execution_count": 10,
   "metadata": {},
   "outputs": [
    {
     "name": "stderr",
     "output_type": "stream",
     "text": [
      "100%|██████████| 1000/1000 [00:09<00:00, 103.17it/s]\n",
      "100%|██████████| 1000/1000 [00:07<00:00, 126.80it/s]\n"
     ]
    }
   ],
   "source": [
    "df['bart_bleu'], df['bart_meteor'] = calculate_metrics(df['toxic'].to_list(), df['bart'].to_list())\n",
    "df['t5_bleu'], df['t5_meteor'] = calculate_metrics(df['toxic'].to_list(), df['t5'].to_list())"
   ]
  },
  {
   "cell_type": "code",
   "execution_count": 11,
   "metadata": {},
   "outputs": [],
   "source": [
    "bart_bleu, bart_meteor = df['bart_bleu'].mean(), df['bart_meteor'].mean() \n",
    "t5_bleu, t5_meteor = df['t5_bleu'].mean(), df['t5_meteor'].mean() "
   ]
  },
  {
   "cell_type": "code",
   "execution_count": 12,
   "metadata": {},
   "outputs": [
    {
     "data": {
      "image/png": "[encoded data removed]",
      "text/plain": [
       "<Figure size 600x500 with 1 Axes>"
      ]
     },
     "metadata": {},
     "output_type": "display_data"
    }
   ],
   "source": [
    "data = {'bart answers':bart_bleu, 't5 answers':t5_bleu}\n",
    "names = list(data.keys())\n",
    "values = list(data.values())\n",
    "  \n",
    "fig = plt.figure(figsize = (6, 5))\n",
    "bar_colors = ['orange', 'green']\n",
    " \n",
    "plt.bar(names, values, color = bar_colors, width = 0.4)\n",
    "\n",
    "plt.ylabel(\"score\")\n",
    "plt.title(\"BLEU score\")\n",
    "plt.tight_layout()\n",
    "plt.savefig(\"../reports/figures/bleu_score.png\")\n",
    "plt.show()"
   ]
  },
  {
   "cell_type": "code",
   "execution_count": 13,
   "metadata": {},
   "outputs": [
    {
     "data": {
      "image/png": "[encoded data removed]",
      "text/plain": [
       "<Figure size 600x500 with 1 Axes>"
      ]
     },
     "metadata": {},
     "output_type": "display_data"
    }
   ],
   "source": [
    "data = {'bart answers':bart_meteor, 't5 answers':t5_meteor}\n",
    "names = list(data.keys())\n",
    "values = list(data.values())\n",
    "  \n",
    "fig = plt.figure(figsize = (6, 5))\n",
    "bar_colors = ['orange', 'green']\n",
    " \n",
    "plt.bar(names, values, color = bar_colors, width = 0.4)\n",
    "\n",
    "plt.ylabel(\"score\")\n",
    "plt.title(\"METEOR score\")\n",
    "plt.tight_layout()\n",
    "plt.savefig(\"../reports/figures/meteor_score.png\")\n",
    "plt.show()"
   ]
  },
  {
   "cell_type": "code",
   "execution_count": null,
   "metadata": {},
   "outputs": [],
   "source": []
  }
 ],
 "metadata": {
  "kernelspec": {
   "display_name": ".venv",
   "language": "python",
   "name": "python3"
  },
  "language_info": {
   "codemirror_mode": {
    "name": "ipython",
    "version": 3
   },
   "file_extension": ".py",
   "mimetype": "text/x-python",
   "name": "python",
   "nbconvert_exporter": "python",
   "pygments_lexer": "ipython3",
   "version": "3.10.11"
  }
 },
 "nbformat": 4,
 "nbformat_minor": 2
}
